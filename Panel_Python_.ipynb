{
 "cells": [
  {
   "cell_type": "markdown",
   "id": "93bdf0de",
   "metadata": {},
   "source": [
    "# Winter Olympic games statistic "
   ]
  },
  {
   "cell_type": "code",
   "execution_count": 3,
   "id": "7dcc799e",
   "metadata": {},
   "outputs": [],
   "source": [
    "import pandas as pd\n",
    "import panel as pn\n",
    "import plotly.express as px\n",
    "\n",
    "# Load data from a CSV file\n",
    "data = pd.read_csv('winter_games.csv')"
   ]
  },
  {
   "cell_type": "code",
   "execution_count": 4,
   "id": "e0b77858",
   "metadata": {},
   "outputs": [
    {
     "data": {
      "text/html": [
       "<div>\n",
       "<style scoped>\n",
       "    .dataframe tbody tr th:only-of-type {\n",
       "        vertical-align: middle;\n",
       "    }\n",
       "\n",
       "    .dataframe tbody tr th {\n",
       "        vertical-align: top;\n",
       "    }\n",
       "\n",
       "    .dataframe thead th {\n",
       "        text-align: right;\n",
       "    }\n",
       "</style>\n",
       "<table border=\"1\" class=\"dataframe\">\n",
       "  <thead>\n",
       "    <tr style=\"text-align: right;\">\n",
       "      <th></th>\n",
       "      <th>olympics</th>\n",
       "      <th>discipline</th>\n",
       "      <th>sex</th>\n",
       "      <th>age</th>\n",
       "    </tr>\n",
       "  </thead>\n",
       "  <tbody>\n",
       "    <tr>\n",
       "      <th>0</th>\n",
       "      <td>2022</td>\n",
       "      <td>Snowboard</td>\n",
       "      <td>f</td>\n",
       "      <td>24</td>\n",
       "    </tr>\n",
       "    <tr>\n",
       "      <th>1</th>\n",
       "      <td>2022</td>\n",
       "      <td>Snowboard</td>\n",
       "      <td>f</td>\n",
       "      <td>28</td>\n",
       "    </tr>\n",
       "    <tr>\n",
       "      <th>2</th>\n",
       "      <td>2022</td>\n",
       "      <td>Snowboard</td>\n",
       "      <td>f</td>\n",
       "      <td>26</td>\n",
       "    </tr>\n",
       "    <tr>\n",
       "      <th>3</th>\n",
       "      <td>2022</td>\n",
       "      <td>Snowboard</td>\n",
       "      <td>f</td>\n",
       "      <td>26</td>\n",
       "    </tr>\n",
       "    <tr>\n",
       "      <th>4</th>\n",
       "      <td>2022</td>\n",
       "      <td>Snowboard</td>\n",
       "      <td>f</td>\n",
       "      <td>26</td>\n",
       "    </tr>\n",
       "  </tbody>\n",
       "</table>\n",
       "</div>"
      ],
      "text/plain": [
       "   olympics discipline sex  age\n",
       "0      2022  Snowboard   f   24\n",
       "1      2022  Snowboard   f   28\n",
       "2      2022  Snowboard   f   26\n",
       "3      2022  Snowboard   f   26\n",
       "4      2022  Snowboard   f   26"
      ]
     },
     "execution_count": 4,
     "metadata": {},
     "output_type": "execute_result"
    }
   ],
   "source": [
    "data.head()"
   ]
  },
  {
   "cell_type": "code",
   "execution_count": 5,
   "id": "6c833c0c",
   "metadata": {},
   "outputs": [],
   "source": [
    "# Define a function to create a histogram of age distribution\n",
    "def age_histogram():\n",
    "    return px.histogram(data, x='age', nbins=20, title='Age Distribution')\n",
    "\n",
    "# Define a function to create a bar chart of the number of athletes by gender\n",
    "def gender_bar_chart():\n",
    "    gender_counts = data['sex'].value_counts()\n",
    "    return px.bar(gender_counts, x=gender_counts.index, y=gender_counts.values, title='Number of Athletes by Gender')\n",
    "\n",
    "# Define a function to create a line chart of the number of athletes by year of play\n",
    "def year_line_chart():\n",
    "    year_counts = data['olympics'].value_counts().sort_index()\n",
    "    return px.line(year_counts, x=year_counts.index, y=year_counts.values, title='Number of Athletes by Year')\n",
    "\n",
    "# Define a function to create a scatter plot of age vs. year of play\n",
    "def age_vs_year_scatter():\n",
    "    return px.scatter(data, x='olympics', y='age', color='sex', title='Age vs. Year of Play')\n",
    "\n",
    "# Define a function to create a grouped bar chart of the number of athletes by gender and discipline\n",
    "def gender_discipline_bar_chart():\n",
    "    gender_discipline_counts = data.groupby(['sex', 'discipline'])['age'].count().reset_index()\n",
    "    return px.bar(gender_discipline_counts, x='discipline', y='age', color='sex', barmode='group', title='Number of Athletes by Gender and Discipline')\n"
   ]
  },
  {
   "cell_type": "code",
   "execution_count": 6,
   "id": "7b77c83c",
   "metadata": {},
   "outputs": [],
   "source": [
    "# Create a dropdown menu for selecting the type of chart to display\n",
    "dropdown = pn.widgets.Select(name='Chart Type', options=['Age Histogram', 'Gender Bar Chart', 'Year Line Chart', 'Age vs. Year Scatter', 'Gender-Discipline Bar Chart'])\n",
    "\n",
    "# Combine the dropdown menu and charts into a Panel dashboard\n",
    "dashboard = pn.Column(\n",
    "    '# Olympic Games Dashboard',\n",
    "    dropdown,\n",
    "    pn.pane.Plotly(height=400),\n",
    ")"
   ]
  },
  {
   "cell_type": "code",
   "execution_count": 7,
   "id": "5073619b",
   "metadata": {},
   "outputs": [],
   "source": [
    "# Define a callback function to update the chart based on the dropdown menu selection\n",
    "def update_chart(event):\n",
    "    if dropdown.value == 'Age Histogram':\n",
    "        dashboard[2] = age_histogram()\n",
    "    elif dropdown.value == 'Gender Bar Chart':\n",
    "        dashboard[2] = gender_bar_chart()\n",
    "    elif dropdown.value == 'Year Line Chart':\n",
    "        dashboard[2] = year_line_chart()\n",
    "    elif dropdown.value == 'Age vs. Year Scatter':\n",
    "        dashboard[2] = age_vs_year_scatter()\n",
    "    else:\n",
    "        dashboard[2] = gender_discipline_bar_chart()"
   ]
  },
  {
   "cell_type": "code",
   "execution_count": 8,
   "id": "8eeade30",
   "metadata": {},
   "outputs": [
    {
     "data": {
      "text/plain": [
       "Watcher(inst=Select(name='Chart Type', options=['Age Histogram', ...], value='Age Histogram'), cls=<class 'panel.widgets.select.Select'>, fn=<function update_chart at 0x0000019AF86DA4C0>, mode='args', onlychanged=True, parameter_names=('value',), what='value', queued=False, precedence=0)"
      ]
     },
     "execution_count": 8,
     "metadata": {},
     "output_type": "execute_result"
    }
   ],
   "source": [
    "# Link the dropdown menu to the callback function\n",
    "dropdown.param.watch(update_chart, 'value')\n"
   ]
  },
  {
   "cell_type": "code",
   "execution_count": 9,
   "id": "4bba6538",
   "metadata": {},
   "outputs": [],
   "source": [
    "from bokeh.settings import settings\n",
    "settings.resources = 'cdn'\n",
    "settings.resources = 'inline'"
   ]
  },
  {
   "cell_type": "code",
   "execution_count": 10,
   "id": "ffcc8453",
   "metadata": {},
   "outputs": [
    {
     "name": "stdout",
     "output_type": "stream",
     "text": [
      "Launching server at http://localhost:52395\n"
     ]
    },
    {
     "data": {
      "text/plain": [
       "<panel.io.server.Server at 0x19af86a4430>"
      ]
     },
     "execution_count": 10,
     "metadata": {},
     "output_type": "execute_result"
    }
   ],
   "source": [
    "dashboard.show()"
   ]
  },
  {
   "cell_type": "code",
   "execution_count": null,
   "id": "92eb73e1",
   "metadata": {},
   "outputs": [],
   "source": []
  },
  {
   "cell_type": "code",
   "execution_count": null,
   "id": "97672130",
   "metadata": {},
   "outputs": [],
   "source": []
  }
 ],
 "metadata": {
  "kernelspec": {
   "display_name": "Python 3 (ipykernel)",
   "language": "python",
   "name": "python3"
  },
  "language_info": {
   "codemirror_mode": {
    "name": "ipython",
    "version": 3
   },
   "file_extension": ".py",
   "mimetype": "text/x-python",
   "name": "python",
   "nbconvert_exporter": "python",
   "pygments_lexer": "ipython3",
   "version": "3.9.15"
  }
 },
 "nbformat": 4,
 "nbformat_minor": 5
}
